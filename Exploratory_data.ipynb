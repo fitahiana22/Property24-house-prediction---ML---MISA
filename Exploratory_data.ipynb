{
 "cells": [
  {
   "cell_type": "code",
   "execution_count": 1,
   "metadata": {},
   "outputs": [],
   "source": [
    "import numpy as np\n",
    "import pandas as pd\n",
    "import matplotlib.pyplot as plt\n",
    "import seaborn as sns"
   ]
  },
  {
   "cell_type": "code",
   "execution_count": 2,
   "metadata": {},
   "outputs": [],
   "source": [
    "pd.set_option('display.max_row', 57)\n",
    "pd.set_option('display.max_column', 57)"
   ]
  },
  {
   "cell_type": "code",
   "execution_count": 3,
   "metadata": {
    "scrolled": true
   },
   "outputs": [
    {
     "name": "stderr",
     "output_type": "stream",
     "text": [
      "/usr/local/lib/python3.5/dist-packages/IPython/core/interactiveshell.py:3058: DtypeWarning: Columns (32,35) have mixed types. Specify dtype option on import or set low_memory=False.\n",
      "  interactivity=interactivity, compiler=compiler, result=result)\n"
     ]
    }
   ],
   "source": [
    "#read the data\n",
    "data = pd.read_csv('cleaned_data.csv')"
   ]
  },
  {
   "cell_type": "code",
   "execution_count": 4,
   "metadata": {},
   "outputs": [],
   "source": [
    "df = data.copy()"
   ]
  },
  {
   "cell_type": "code",
   "execution_count": 5,
   "metadata": {},
   "outputs": [
    {
     "data": {
      "text/html": [
       "<div>\n",
       "<style scoped>\n",
       "    .dataframe tbody tr th:only-of-type {\n",
       "        vertical-align: middle;\n",
       "    }\n",
       "\n",
       "    .dataframe tbody tr th {\n",
       "        vertical-align: top;\n",
       "    }\n",
       "\n",
       "    .dataframe thead th {\n",
       "        text-align: right;\n",
       "    }\n",
       "</style>\n",
       "<table border=\"1\" class=\"dataframe\">\n",
       "  <thead>\n",
       "    <tr style=\"text-align: right;\">\n",
       "      <th></th>\n",
       "      <th>Unnamed: 0</th>\n",
       "      <th>Bathroom</th>\n",
       "      <th>Bathrooms</th>\n",
       "      <th>Bedroom</th>\n",
       "      <th>Bedrooms</th>\n",
       "      <th>Bedrooms:</th>\n",
       "      <th>Coverage</th>\n",
       "      <th>Description</th>\n",
       "      <th>Dining Room</th>\n",
       "      <th>Dining Rooms</th>\n",
       "      <th>Domestic Rooms</th>\n",
       "      <th>Entrance Hall</th>\n",
       "      <th>Erf Size</th>\n",
       "      <th>Facing</th>\n",
       "      <th>Family/TV Room</th>\n",
       "      <th>Floor Size</th>\n",
       "      <th>Garage</th>\n",
       "      <th>Garden</th>\n",
       "      <th>Gardens</th>\n",
       "      <th>Kitchen</th>\n",
       "      <th>Kitchens</th>\n",
       "      <th>Levies</th>\n",
       "      <th>Lifestyle</th>\n",
       "      <th>Listing Date</th>\n",
       "      <th>Listing Number</th>\n",
       "      <th>Lounge</th>\n",
       "      <th>Lounges</th>\n",
       "      <th>Nearby Public Transport</th>\n",
       "      <th>No Transfer Duty</th>\n",
       "      <th>Office</th>\n",
       "      <th>Other</th>\n",
       "      <th>Outbuilding</th>\n",
       "      <th>Parking</th>\n",
       "      <th>Parking.1</th>\n",
       "      <th>Pets Allowed</th>\n",
       "      <th>Pool</th>\n",
       "      <th>Pool.1</th>\n",
       "      <th>Price per m²</th>\n",
       "      <th>Rates and Taxes</th>\n",
       "      <th>Reception Rooms</th>\n",
       "      <th>Roof</th>\n",
       "      <th>Rooms</th>\n",
       "      <th>Security</th>\n",
       "      <th>Special Features</th>\n",
       "      <th>Standalone Building</th>\n",
       "      <th>Street Address</th>\n",
       "      <th>Style</th>\n",
       "      <th>Temperature Control</th>\n",
       "      <th>Type of Property</th>\n",
       "      <th>Wall</th>\n",
       "      <th>Window</th>\n",
       "      <th>city</th>\n",
       "      <th>description</th>\n",
       "      <th>link</th>\n",
       "      <th>price</th>\n",
       "      <th>province</th>\n",
       "      <th>suburbaine</th>\n",
       "    </tr>\n",
       "  </thead>\n",
       "  <tbody>\n",
       "    <tr>\n",
       "      <th>0</th>\n",
       "      <td>0</td>\n",
       "      <td>NaN</td>\n",
       "      <td>2.0</td>\n",
       "      <td>NaN</td>\n",
       "      <td>3.0</td>\n",
       "      <td>NaN</td>\n",
       "      <td>NaN</td>\n",
       "      <td>NaN</td>\n",
       "      <td>Tiled Floors, Open Plan</td>\n",
       "      <td>NaN</td>\n",
       "      <td>NaN</td>\n",
       "      <td>NaN</td>\n",
       "      <td>NaN</td>\n",
       "      <td>NaN</td>\n",
       "      <td>Patio, Tiled Floors, Open Plan</td>\n",
       "      <td>133 m²</td>\n",
       "      <td>Roll up, Single</td>\n",
       "      <td>NaN</td>\n",
       "      <td>1.0</td>\n",
       "      <td>Stove (Oven &amp; Hob), Extractor Fan, Washing Mac...</td>\n",
       "      <td>NaN</td>\n",
       "      <td>R 1 800</td>\n",
       "      <td>NaN</td>\n",
       "      <td>29 July 2021</td>\n",
       "      <td>110247762.0</td>\n",
       "      <td>NaN</td>\n",
       "      <td>NaN</td>\n",
       "      <td>NaN</td>\n",
       "      <td>NaN</td>\n",
       "      <td>NaN</td>\n",
       "      <td>NaN</td>\n",
       "      <td>NaN</td>\n",
       "      <td>NaN</td>\n",
       "      <td>1</td>\n",
       "      <td>Yes</td>\n",
       "      <td>NaN</td>\n",
       "      <td>NaN</td>\n",
       "      <td>NaN</td>\n",
       "      <td>R 600</td>\n",
       "      <td>NaN</td>\n",
       "      <td>NaN</td>\n",
       "      <td>NaN</td>\n",
       "      <td>NaN</td>\n",
       "      <td>NaN</td>\n",
       "      <td>NaN</td>\n",
       "      <td>1061 Theunis Street, Weltevreden Park</td>\n",
       "      <td>NaN</td>\n",
       "      <td>NaN</td>\n",
       "      <td>Townhouse</td>\n",
       "      <td>NaN</td>\n",
       "      <td>NaN</td>\n",
       "      <td>roodepoort</td>\n",
       "      <td>NaN</td>\n",
       "      <td>https://www.property24.com/for-sale/weltevrede...</td>\n",
       "      <td>R 1 395 000</td>\n",
       "      <td>gauteng</td>\n",
       "      <td>weltevreden-park</td>\n",
       "    </tr>\n",
       "    <tr>\n",
       "      <th>1</th>\n",
       "      <td>1</td>\n",
       "      <td>NaN</td>\n",
       "      <td>3.0</td>\n",
       "      <td>NaN</td>\n",
       "      <td>3.0</td>\n",
       "      <td>NaN</td>\n",
       "      <td>NaN</td>\n",
       "      <td>NaN</td>\n",
       "      <td>NaN</td>\n",
       "      <td>1.0</td>\n",
       "      <td>NaN</td>\n",
       "      <td>NaN</td>\n",
       "      <td>NaN</td>\n",
       "      <td>NaN</td>\n",
       "      <td>NaN</td>\n",
       "      <td>127 m²</td>\n",
       "      <td>NaN</td>\n",
       "      <td>Yes</td>\n",
       "      <td>NaN</td>\n",
       "      <td>NaN</td>\n",
       "      <td>1.0</td>\n",
       "      <td>R 4 055</td>\n",
       "      <td>NaN</td>\n",
       "      <td>28 July 2021</td>\n",
       "      <td>110243035.0</td>\n",
       "      <td>NaN</td>\n",
       "      <td>1.0</td>\n",
       "      <td>NaN</td>\n",
       "      <td>NaN</td>\n",
       "      <td>NaN</td>\n",
       "      <td>NaN</td>\n",
       "      <td>NaN</td>\n",
       "      <td>NaN</td>\n",
       "      <td>2</td>\n",
       "      <td>No</td>\n",
       "      <td>NaN</td>\n",
       "      <td>NaN</td>\n",
       "      <td>R 38 976</td>\n",
       "      <td>R 3 294</td>\n",
       "      <td>NaN</td>\n",
       "      <td>NaN</td>\n",
       "      <td>NaN</td>\n",
       "      <td>NaN</td>\n",
       "      <td>NaN</td>\n",
       "      <td>NaN</td>\n",
       "      <td>18 Heleza Blvd, Sibaya Precinct</td>\n",
       "      <td>NaN</td>\n",
       "      <td>NaN</td>\n",
       "      <td>Apartment / Flat</td>\n",
       "      <td>NaN</td>\n",
       "      <td>NaN</td>\n",
       "      <td>umhlanga</td>\n",
       "      <td>NaN</td>\n",
       "      <td>https://www.property24.com/for-sale/sibaya-pre...</td>\n",
       "      <td>R 4 950 000</td>\n",
       "      <td>kwazulu-natal</td>\n",
       "      <td>sibaya-precinct</td>\n",
       "    </tr>\n",
       "    <tr>\n",
       "      <th>2</th>\n",
       "      <td>2</td>\n",
       "      <td>NaN</td>\n",
       "      <td>1.5</td>\n",
       "      <td>NaN</td>\n",
       "      <td>1.0</td>\n",
       "      <td>NaN</td>\n",
       "      <td>NaN</td>\n",
       "      <td>NaN</td>\n",
       "      <td>NaN</td>\n",
       "      <td>NaN</td>\n",
       "      <td>NaN</td>\n",
       "      <td>NaN</td>\n",
       "      <td>NaN</td>\n",
       "      <td>NaN</td>\n",
       "      <td>NaN</td>\n",
       "      <td>71 m²</td>\n",
       "      <td>NaN</td>\n",
       "      <td>NaN</td>\n",
       "      <td>NaN</td>\n",
       "      <td>NaN</td>\n",
       "      <td>1.0</td>\n",
       "      <td>R 4 500</td>\n",
       "      <td>NaN</td>\n",
       "      <td>02 August 2021</td>\n",
       "      <td>110257762.0</td>\n",
       "      <td>NaN</td>\n",
       "      <td>1.0</td>\n",
       "      <td>Bus, Train, Minibus Taxi</td>\n",
       "      <td>NaN</td>\n",
       "      <td>NaN</td>\n",
       "      <td>NaN</td>\n",
       "      <td>NaN</td>\n",
       "      <td>NaN</td>\n",
       "      <td>1</td>\n",
       "      <td>NaN</td>\n",
       "      <td>NaN</td>\n",
       "      <td>NaN</td>\n",
       "      <td>R 70 408</td>\n",
       "      <td>R 2 500</td>\n",
       "      <td>NaN</td>\n",
       "      <td>NaN</td>\n",
       "      <td>NaN</td>\n",
       "      <td>1</td>\n",
       "      <td>NaN</td>\n",
       "      <td>NaN</td>\n",
       "      <td>The Leonardo\\r\\n77 Maude Street, Sandton Central</td>\n",
       "      <td>NaN</td>\n",
       "      <td>NaN</td>\n",
       "      <td>Apartment / Flat</td>\n",
       "      <td>NaN</td>\n",
       "      <td>NaN</td>\n",
       "      <td>sandton</td>\n",
       "      <td>NaN</td>\n",
       "      <td>https://www.property24.com/for-sale/sandton-ce...</td>\n",
       "      <td>R 4 999 000</td>\n",
       "      <td>gauteng</td>\n",
       "      <td>sandton-central</td>\n",
       "    </tr>\n",
       "    <tr>\n",
       "      <th>3</th>\n",
       "      <td>3</td>\n",
       "      <td>NaN</td>\n",
       "      <td>2.0</td>\n",
       "      <td>NaN</td>\n",
       "      <td>3.0</td>\n",
       "      <td>NaN</td>\n",
       "      <td>NaN</td>\n",
       "      <td>NaN</td>\n",
       "      <td>NaN</td>\n",
       "      <td>NaN</td>\n",
       "      <td>NaN</td>\n",
       "      <td>NaN</td>\n",
       "      <td>400 m²</td>\n",
       "      <td>NaN</td>\n",
       "      <td>NaN</td>\n",
       "      <td>140 m²</td>\n",
       "      <td>2</td>\n",
       "      <td>NaN</td>\n",
       "      <td>NaN</td>\n",
       "      <td>NaN</td>\n",
       "      <td>NaN</td>\n",
       "      <td>R 1 050</td>\n",
       "      <td>NaN</td>\n",
       "      <td>29 July 2021</td>\n",
       "      <td>110245337.0</td>\n",
       "      <td>NaN</td>\n",
       "      <td>1.0</td>\n",
       "      <td>NaN</td>\n",
       "      <td>NaN</td>\n",
       "      <td>NaN</td>\n",
       "      <td>NaN</td>\n",
       "      <td>NaN</td>\n",
       "      <td>NaN</td>\n",
       "      <td>2</td>\n",
       "      <td>Yes</td>\n",
       "      <td>NaN</td>\n",
       "      <td>NaN</td>\n",
       "      <td>NaN</td>\n",
       "      <td>R 585</td>\n",
       "      <td>NaN</td>\n",
       "      <td>NaN</td>\n",
       "      <td>NaN</td>\n",
       "      <td>NaN</td>\n",
       "      <td>NaN</td>\n",
       "      <td>NaN</td>\n",
       "      <td>3 Seaview  Forest walk estate , Sir Lowrys Pass</td>\n",
       "      <td>NaN</td>\n",
       "      <td>NaN</td>\n",
       "      <td>House</td>\n",
       "      <td>NaN</td>\n",
       "      <td>NaN</td>\n",
       "      <td>somerset-west</td>\n",
       "      <td>NaN</td>\n",
       "      <td>https://www.property24.com/for-sale/sir-lowrys...</td>\n",
       "      <td>R 1 650 000</td>\n",
       "      <td>western-cape</td>\n",
       "      <td>sir-lowrys-pass</td>\n",
       "    </tr>\n",
       "    <tr>\n",
       "      <th>4</th>\n",
       "      <td>4</td>\n",
       "      <td>NaN</td>\n",
       "      <td>2.0</td>\n",
       "      <td>NaN</td>\n",
       "      <td>3.0</td>\n",
       "      <td>NaN</td>\n",
       "      <td>NaN</td>\n",
       "      <td>Second floor and above</td>\n",
       "      <td>NaN</td>\n",
       "      <td>NaN</td>\n",
       "      <td>NaN</td>\n",
       "      <td>NaN</td>\n",
       "      <td>NaN</td>\n",
       "      <td>NaN</td>\n",
       "      <td>NaN</td>\n",
       "      <td>84 m²</td>\n",
       "      <td>NaN</td>\n",
       "      <td>NaN</td>\n",
       "      <td>NaN</td>\n",
       "      <td>Refurbished, Tiled floors</td>\n",
       "      <td>NaN</td>\n",
       "      <td>R 1 878</td>\n",
       "      <td>Coastal/Beach, Holiday Home</td>\n",
       "      <td>28 July 2021</td>\n",
       "      <td>110244016.0</td>\n",
       "      <td>Refurbished</td>\n",
       "      <td>NaN</td>\n",
       "      <td>NaN</td>\n",
       "      <td>NaN</td>\n",
       "      <td>NaN</td>\n",
       "      <td>NaN</td>\n",
       "      <td>NaN</td>\n",
       "      <td>NaN</td>\n",
       "      <td>Paved</td>\n",
       "      <td>No</td>\n",
       "      <td>NaN</td>\n",
       "      <td>NaN</td>\n",
       "      <td>R 15 417</td>\n",
       "      <td>R 448</td>\n",
       "      <td>NaN</td>\n",
       "      <td>NaN</td>\n",
       "      <td>NaN</td>\n",
       "      <td>NaN</td>\n",
       "      <td>NaN</td>\n",
       "      <td>NaN</td>\n",
       "      <td>18 SS Ocean View, 15A De Reyger, Jeffreys Bay...</td>\n",
       "      <td>NaN</td>\n",
       "      <td>NaN</td>\n",
       "      <td>Apartment / Flat</td>\n",
       "      <td>NaN</td>\n",
       "      <td>NaN</td>\n",
       "      <td>jeffreys-bay</td>\n",
       "      <td>NaN</td>\n",
       "      <td>https://www.property24.com/for-sale/jeffreys-b...</td>\n",
       "      <td>R 1 295 000</td>\n",
       "      <td>eastern-cape</td>\n",
       "      <td>jeffreys-bay-central</td>\n",
       "    </tr>\n",
       "  </tbody>\n",
       "</table>\n",
       "</div>"
      ],
      "text/plain": [
       "   Unnamed: 0 Bathroom  Bathrooms Bedroom  Bedrooms  Bedrooms: Coverage  \\\n",
       "0           0      NaN        2.0     NaN       3.0        NaN      NaN   \n",
       "1           1      NaN        3.0     NaN       3.0        NaN      NaN   \n",
       "2           2      NaN        1.5     NaN       1.0        NaN      NaN   \n",
       "3           3      NaN        2.0     NaN       3.0        NaN      NaN   \n",
       "4           4      NaN        2.0     NaN       3.0        NaN      NaN   \n",
       "\n",
       "              Description              Dining Room  Dining Rooms  \\\n",
       "0                     NaN  Tiled Floors, Open Plan           NaN   \n",
       "1                     NaN                      NaN           1.0   \n",
       "2                     NaN                      NaN           NaN   \n",
       "3                     NaN                      NaN           NaN   \n",
       "4  Second floor and above                      NaN           NaN   \n",
       "\n",
       "   Domestic Rooms Entrance Hall Erf Size Facing  \\\n",
       "0             NaN           NaN      NaN    NaN   \n",
       "1             NaN           NaN      NaN    NaN   \n",
       "2             NaN           NaN      NaN    NaN   \n",
       "3             NaN           NaN   400 m²    NaN   \n",
       "4             NaN           NaN      NaN    NaN   \n",
       "\n",
       "                   Family/TV Room Floor Size           Garage Garden  Gardens  \\\n",
       "0  Patio, Tiled Floors, Open Plan     133 m²  Roll up, Single    NaN      1.0   \n",
       "1                             NaN     127 m²              NaN    Yes      NaN   \n",
       "2                             NaN      71 m²              NaN    NaN      NaN   \n",
       "3                             NaN     140 m²                2    NaN      NaN   \n",
       "4                             NaN      84 m²              NaN    NaN      NaN   \n",
       "\n",
       "                                             Kitchen  Kitchens   Levies  \\\n",
       "0  Stove (Oven & Hob), Extractor Fan, Washing Mac...       NaN  R 1 800   \n",
       "1                                                NaN       1.0  R 4 055   \n",
       "2                                                NaN       1.0  R 4 500   \n",
       "3                                                NaN       NaN  R 1 050   \n",
       "4                          Refurbished, Tiled floors       NaN  R 1 878   \n",
       "\n",
       "                     Lifestyle    Listing Date  Listing Number       Lounge  \\\n",
       "0                          NaN    29 July 2021     110247762.0          NaN   \n",
       "1                          NaN    28 July 2021     110243035.0          NaN   \n",
       "2                          NaN  02 August 2021     110257762.0          NaN   \n",
       "3                          NaN    29 July 2021     110245337.0          NaN   \n",
       "4  Coastal/Beach, Holiday Home    28 July 2021     110244016.0  Refurbished   \n",
       "\n",
       "   Lounges   Nearby Public Transport No Transfer Duty  Office Other  \\\n",
       "0      NaN                       NaN              NaN     NaN   NaN   \n",
       "1      1.0                       NaN              NaN     NaN   NaN   \n",
       "2      1.0  Bus, Train, Minibus Taxi              NaN     NaN   NaN   \n",
       "3      1.0                       NaN              NaN     NaN   NaN   \n",
       "4      NaN                       NaN              NaN     NaN   NaN   \n",
       "\n",
       "  Outbuilding Parking Parking.1 Pets Allowed Pool Pool.1 Price per m²  \\\n",
       "0         NaN     NaN         1          Yes  NaN    NaN          NaN   \n",
       "1         NaN     NaN         2           No  NaN    NaN     R 38 976   \n",
       "2         NaN     NaN         1          NaN  NaN    NaN     R 70 408   \n",
       "3         NaN     NaN         2          Yes  NaN    NaN          NaN   \n",
       "4         NaN     NaN     Paved           No  NaN    NaN     R 15 417   \n",
       "\n",
       "  Rates and Taxes  Reception Rooms Roof Rooms Security Special Features  \\\n",
       "0           R 600              NaN  NaN   NaN      NaN              NaN   \n",
       "1         R 3 294              NaN  NaN   NaN      NaN              NaN   \n",
       "2         R 2 500              NaN  NaN   NaN        1              NaN   \n",
       "3           R 585              NaN  NaN   NaN      NaN              NaN   \n",
       "4           R 448              NaN  NaN   NaN      NaN              NaN   \n",
       "\n",
       "  Standalone Building                                     Street Address  \\\n",
       "0                 NaN              1061 Theunis Street, Weltevreden Park   \n",
       "1                 NaN                    18 Heleza Blvd, Sibaya Precinct   \n",
       "2                 NaN   The Leonardo\\r\\n77 Maude Street, Sandton Central   \n",
       "3                 NaN    3 Seaview  Forest walk estate , Sir Lowrys Pass   \n",
       "4                 NaN   18 SS Ocean View, 15A De Reyger, Jeffreys Bay...   \n",
       "\n",
       "  Style Temperature Control  Type of Property Wall Window           city  \\\n",
       "0   NaN                 NaN         Townhouse  NaN    NaN     roodepoort   \n",
       "1   NaN                 NaN  Apartment / Flat  NaN    NaN       umhlanga   \n",
       "2   NaN                 NaN  Apartment / Flat  NaN    NaN        sandton   \n",
       "3   NaN                 NaN             House  NaN    NaN  somerset-west   \n",
       "4   NaN                 NaN  Apartment / Flat  NaN    NaN   jeffreys-bay   \n",
       "\n",
       "  description                                               link        price  \\\n",
       "0         NaN  https://www.property24.com/for-sale/weltevrede...  R 1 395 000   \n",
       "1         NaN  https://www.property24.com/for-sale/sibaya-pre...  R 4 950 000   \n",
       "2         NaN  https://www.property24.com/for-sale/sandton-ce...  R 4 999 000   \n",
       "3         NaN  https://www.property24.com/for-sale/sir-lowrys...  R 1 650 000   \n",
       "4         NaN  https://www.property24.com/for-sale/jeffreys-b...  R 1 295 000   \n",
       "\n",
       "        province            suburbaine  \n",
       "0        gauteng      weltevreden-park  \n",
       "1  kwazulu-natal       sibaya-precinct  \n",
       "2        gauteng       sandton-central  \n",
       "3   western-cape       sir-lowrys-pass  \n",
       "4   eastern-cape  jeffreys-bay-central  "
      ]
     },
     "execution_count": 5,
     "metadata": {},
     "output_type": "execute_result"
    }
   ],
   "source": [
    "df.head()"
   ]
  },
  {
   "cell_type": "markdown",
   "metadata": {},
   "source": [
    "# 1. Exploratory Data Analysis\n",
    "\n",
    "## Objectif :\n",
    "- Comprendre du mieux possible nos données (un petit pas en avant vaut mieux qu'un grand pas en arriere)\n",
    "- Développer une premiere stratégie de modélisation \n",
    "\n",
    "## Checklist de base\n",
    "#### Analyse de Forme :\n",
    "- **élimination des colonnes inutiles** : Unnamed: 0, link, la variable à valeur manquante à 0.999%\n",
    "- **variable target** : price\n",
    "- **lignes et colonnes** : 31125, 57\n",
    "- **types de variables** : qualitatives : 45, quantitatives : 12\n",
    "- **Analyse des valeurs manquantes** :\n",
    "    - Parking : presque vide -> à éliminer\n",
    "    \n",
    "#### Analyse de Fond :\n",
    "- **Visualisation de la target** :\n",
    "    - suivre une distribution asymétrique positive\n",
    "    \n",
    "    \n",
    "    \n",
    "- **Signification des variables** :\n",
    "    -  variables continues normale, asymétriques, office( booleean)\n",
    " \n",
    "    - variable qualitative :\n",
    "        - variables coordonnees : Street Address,city, province, suburbaine\n",
    "\n",
    "        - variable cout : 'Levies','Price per m²','Rates and Taxes' \n",
    "        - variable security : Coverage , Security, wall\n",
    "        - variable d'elevation Animaux acceptés : Pets Allowed (oui ou non)\n",
    "        - variable d'autonomie: Standalone Building, Outbuilding\n",
    "        \n",
    "        \n"
   ]
  },
  {
   "cell_type": "markdown",
   "metadata": {},
   "source": [
    "### Analyse de la forme"
   ]
  },
  {
   "cell_type": "code",
   "execution_count": 6,
   "metadata": {},
   "outputs": [
    {
     "data": {
      "text/plain": [
       "(31125, 57)"
      ]
     },
     "execution_count": 6,
     "metadata": {},
     "output_type": "execute_result"
    }
   ],
   "source": [
    "df.shape"
   ]
  },
  {
   "cell_type": "code",
   "execution_count": 7,
   "metadata": {},
   "outputs": [
    {
     "data": {
      "text/plain": [
       "object     45\n",
       "float64    11\n",
       "int64       1\n",
       "dtype: int64"
      ]
     },
     "execution_count": 7,
     "metadata": {},
     "output_type": "execute_result"
    }
   ],
   "source": [
    "df.dtypes.value_counts()"
   ]
  },
  {
   "cell_type": "code",
   "execution_count": 8,
   "metadata": {},
   "outputs": [
    {
     "data": {
      "text/plain": [
       "<matplotlib.axes._subplots.AxesSubplot at 0x7f1b5195fe10>"
      ]
     },
     "execution_count": 8,
     "metadata": {},
     "output_type": "execute_result"
    },
    {
     "data": {
      "image/png": "[encoded data removed]",
      "text/plain": [
       "<Figure size 1440x720 with 1 Axes>"
      ]
     },
     "metadata": {
      "needs_background": "light"
     },
     "output_type": "display_data"
    }
   ],
   "source": [
    "plt.figure(figsize=(20,10))\n",
    "sns.heatmap(df.isna(), cbar=False)"
   ]
  },
  {
   "cell_type": "code",
   "execution_count": 9,
   "metadata": {},
   "outputs": [
    {
     "data": {
      "text/plain": [
       "Unnamed: 0                 0.000000\n",
       "Type of Property           0.000000\n",
       "Listing Number             0.000000\n",
       "price                      0.000096\n",
       "Listing Date               0.006779\n",
       "city                       0.053944\n",
       "province                   0.053944\n",
       "suburbaine                 0.053944\n",
       "Bedrooms                   0.115663\n",
       "Bathrooms                  0.151422\n",
       "link                       0.207550\n",
       "Rates and Taxes            0.421590\n",
       "description                0.448932\n",
       "Erf Size                   0.456289\n",
       "Floor Size                 0.472129\n",
       "Parking.1                  0.517526\n",
       "Pets Allowed               0.524145\n",
       "Garage                     0.529317\n",
       "Levies                     0.567165\n",
       "Kitchen                    0.571855\n",
       "Kitchens                   0.633446\n",
       "Lounges                    0.688321\n",
       "Security                   0.695486\n",
       "Lounge                     0.728643\n",
       "Garden                     0.729478\n",
       "Price per m²               0.745863\n",
       "Dining Rooms               0.783743\n",
       "Dining Room                0.784064\n",
       "Street Address             0.786699\n",
       "Pool.1                     0.834249\n",
       "Description                0.845815\n",
       "Lifestyle                  0.847229\n",
       "Bedrooms:                  0.855743\n",
       "Reception Rooms            0.869687\n",
       "Wall                       0.882827\n",
       "Roof                       0.886586\n",
       "Bathroom                   0.896129\n",
       "Gardens                    0.902169\n",
       "Window                     0.907245\n",
       "Family/TV Room             0.908369\n",
       "Other                      0.910586\n",
       "Domestic Rooms             0.912803\n",
       "Style                      0.914763\n",
       "Facing                     0.914763\n",
       "Rooms                      0.917494\n",
       "Bedroom                    0.920707\n",
       "Entrance Hall              0.924948\n",
       "Standalone Building        0.927936\n",
       "Outbuilding                0.934683\n",
       "Coverage                   0.939920\n",
       "Office                     0.940466\n",
       "Special Features           0.945671\n",
       "Nearby Public Transport    0.947727\n",
       "Temperature Control        0.949622\n",
       "No Transfer Duty           0.949912\n",
       "Pool                       0.956080\n",
       "Parking                    0.999968\n",
       "dtype: float64"
      ]
     },
     "execution_count": 9,
     "metadata": {},
     "output_type": "execute_result"
    }
   ],
   "source": [
    "(df.isna().sum(axis=0)/df.shape[0]).sort_values(ascending=True)"
   ]
  },
  {
   "cell_type": "markdown",
   "metadata": {},
   "source": [
    "## Analyse du Fond\n",
    "### 1. Visulation initiale - Elimination des colonnes inutiles"
   ]
  },
  {
   "cell_type": "code",
   "execution_count": 10,
   "metadata": {},
   "outputs": [],
   "source": [
    "df = df.drop(['Unnamed: 0','link'],axis=1)"
   ]
  },
  {
   "cell_type": "code",
   "execution_count": 11,
   "metadata": {},
   "outputs": [],
   "source": [
    "df = df.drop('Parking',axis=1)"
   ]
  },
  {
   "cell_type": "code",
   "execution_count": 12,
   "metadata": {},
   "outputs": [
    {
     "data": {
      "text/plain": [
       "(31125, 54)"
      ]
     },
     "execution_count": 12,
     "metadata": {},
     "output_type": "execute_result"
    }
   ],
   "source": [
    "df.shape"
   ]
  },
  {
   "cell_type": "markdown",
   "metadata": {},
   "source": [
    "### Examen de la colonne target"
   ]
  },
  {
   "cell_type": "code",
   "execution_count": 93,
   "metadata": {},
   "outputs": [
    {
     "data": {
      "text/plain": [
       "<matplotlib.axes._subplots.AxesSubplot at 0x7f1b442526a0>"
      ]
     },
     "execution_count": 93,
     "metadata": {},
     "output_type": "execute_result"
    },
    {
     "data": {
      "image/png": "[encoded data removed]",
      "text/plain": [
       "<Figure size 864x720 with 1 Axes>"
      ]
     },
     "metadata": {
      "needs_background": "light"
     },
     "output_type": "display_data"
    }
   ],
   "source": [
    "def to_float(string_value):\n",
    "\n",
    "    string_value = str(string_value)\n",
    "    string_value = string_value.replace(\"R\",\"\")\n",
    "    string_value = string_value.replace(\" \",\"\")\n",
    "    return float(string_value)\n",
    "\n",
    "df = df[df['price'] != \"POA\"]\n",
    "\n",
    "plt.figure(figsize=(12,10))\n",
    "sns.distplot(df['price'].map(to_float))"
   ]
  },
  {
   "cell_type": "markdown",
   "metadata": {},
   "source": [
    "### histogrames des variables continues "
   ]
  },
  {
   "cell_type": "code",
   "execution_count": 56,
   "metadata": {},
   "outputs": [
    {
     "name": "stderr",
     "output_type": "stream",
     "text": [
      "/usr/local/lib/python3.5/dist-packages/seaborn/distributions.py:290: UserWarning: Data must have variance to compute a kernel density estimate.\n",
      "  warnings.warn(msg, UserWarning)\n"
     ]
    },
    {
     "data": {
      "image/png": "[encoded data removed]",
      "text/plain": [
       "<Figure size 432x288 with 1 Axes>"
      ]
     },
     "metadata": {
      "needs_background": "light"
     },
     "output_type": "display_data"
    },
    {
     "data": {
      "image/png": "[encoded data removed]",
      "text/plain": [
       "<Figure size 432x288 with 1 Axes>"
      ]
     },
     "metadata": {
      "needs_background": "light"
     },
     "output_type": "display_data"
    },
    {
     "data": {
      "image/png": "[encoded data removed]",
      "text/plain": [
       "<Figure size 432x288 with 1 Axes>"
      ]
     },
     "metadata": {
      "needs_background": "light"
     },
     "output_type": "display_data"
    },
    {
     "data": {
      "image/png": "[encoded data removed]",
      "text/plain": [
       "<Figure size 432x288 with 1 Axes>"
      ]
     },
     "metadata": {
      "needs_background": "light"
     },
     "output_type": "display_data"
    },
    {
     "data": {
      "image/png": "[encoded data removed]",
      "text/plain": [
       "<Figure size 432x288 with 1 Axes>"
      ]
     },
     "metadata": {
      "needs_background": "light"
     },
     "output_type": "display_data"
    },
    {
     "data": {
      "image/png": "[encoded data removed]",
      "text/plain": [
       "<Figure size 432x288 with 1 Axes>"
      ]
     },
     "metadata": {
      "needs_background": "light"
     },
     "output_type": "display_data"
    },
    {
     "data": {
      "image/png": "[encoded data removed]",
      "text/plain": [
       "<Figure size 432x288 with 1 Axes>"
      ]
     },
     "metadata": {
      "needs_background": "light"
     },
     "output_type": "display_data"
    },
    {
     "data": {
      "image/png": "[encoded data removed]",
      "text/plain": [
       "<Figure size 432x288 with 1 Axes>"
      ]
     },
     "metadata": {
      "needs_background": "light"
     },
     "output_type": "display_data"
    },
    {
     "data": {
      "image/png": "[encoded data removed]",
      "text/plain": [
       "<Figure size 432x288 with 1 Axes>"
      ]
     },
     "metadata": {
      "needs_background": "light"
     },
     "output_type": "display_data"
    },
    {
     "data": {
      "image/png": "[encoded data removed]",
      "text/plain": [
       "<Figure size 432x288 with 1 Axes>"
      ]
     },
     "metadata": {
      "needs_background": "light"
     },
     "output_type": "display_data"
    },
    {
     "data": {
      "image/png": "[encoded data removed]",
      "text/plain": [
       "<Figure size 432x288 with 1 Axes>"
      ]
     },
     "metadata": {
      "needs_background": "light"
     },
     "output_type": "display_data"
    }
   ],
   "source": [
    "for col in df.select_dtypes('float'):\n",
    "    plt.figure()\n",
    "    sns.distplot(df[col])"
   ]
  },
  {
   "cell_type": "markdown",
   "metadata": {},
   "source": [
    "### Variables Qualitatives\n",
    "#### . Coordonnées"
   ]
  },
  {
   "cell_type": "code",
   "execution_count": 100,
   "metadata": {},
   "outputs": [],
   "source": [
    "particulars_colums = ['city','province','suburbaine']"
   ]
  },
  {
   "cell_type": "code",
   "execution_count": 102,
   "metadata": {},
   "outputs": [
    {
     "name": "stdout",
     "output_type": "stream",
     "text": [
      "city ------- ['roodepoort' 'umhlanga' 'sandton' 'somerset-west' 'jeffreys-bay'\n",
      " 'cape-town' 'paarl' 'grahamstown' 'soshanguve' 'pretoria' 'blouberg'\n",
      " 'kraaifontein' 'stellenbosch' 'bloemfontein' 'polokwane' 'edenvale'\n",
      " 'vereeniging' 'durban' 'white-river' 'hartbeespoort' 'pietermaritzburg'\n",
      " 'hillcrest' 'simons-town' 'noordhoek' 'johannesburg' 'germiston'\n",
      " 'alberton' 'kempton-park' 'pringle-bay' 'midrand' 'gordons-bay'\n",
      " 'randburg' 'eersterivier' 'modimolle' 'brackenfell' 'port-elizabeth'\n",
      " 'mossel-bay' 'milnerton' 'durbanville' 'pinetown' 'witbank' 'port-alfred'\n",
      " 'ballito' 'knysna' 'krugersdorp' 'hout-bay' 'benoni' 'bredasdorp'\n",
      " 'plettenberg-bay' 'wellington' 'melkbosstrand' 'east-london'\n",
      " 'bronkhorstspruit' 'st-francis-bay' 'elands-bay' 'centurion'\n",
      " 'kuils-river' 'akasia' 'bellville' 'boksburg' 'bedfordview' 'randfontein'\n",
      " 'potchefstroom' 'george' 'stilbaai' 'parow' 'bettys-bay' 'nelspruit'\n",
      " 'tembisa' 'westville' 'fish-hoek' 'uitenhage' 'san-lameer' 'langebaan'\n",
      " 'hoedspruit' 'montagu' 'kleinmond' 'hermanus' 'hartenbos' 'mtwalume'\n",
      " 'kloof' 'franschhoek' 'richards-bay' 'strand' 'kingsburgh' 'gansbaai'\n",
      " 'mount-edgecombe' 'brits' 'caledon' 'durban-north' 'sasolburg'\n",
      " 'mitchells-plain' 'secunda' 'amanzimtoti' 'margate' 'rustenburg' 'welkom'\n",
      " 'vanderbijlpark' 'delmas' 'khayelitsha' 'velddrif' 'westonaria' 'nigel'\n",
      " 'soweto' 'stilfontein' 'komga' 'heidelberg' 'king-williams-town'\n",
      " 'port-edward' 'springs' 'parys' 'brakpan' 'yzerfontein' 'middelburg'\n",
      " 'kimberley' 'paul-roux' 'port-shepstone' 'bethlehem' 'evaton' 'underberg'\n",
      " 'lephalale' 'marloth-park' 'ladysmith' 'umdloti' 'newcastle' 'lydenburg'\n",
      " 'belfast' 'estcourt' 'saldanha' 'goodwood' 'klerksdorp' 'zinkwazi-beach'\n",
      " 'standerton' 'umkomaas' 'mookgopong' 'pennington' 'vaal-marina'\n",
      " 'kroonstad' 'sabie' 'verulam' 'wolmaransstad' 'empangeni' 'meyerton'\n",
      " 'upington' 'peddie' 'mtubatuba' 'brandfort' 'tzaneen' 'chatsworth'\n",
      " 'howick' 'humansdorp' 'despatch' 'fochville' 'bultfontein' 'delft'\n",
      " 'koppies' 'oudtshoorn' 'phoenix' 'sebokeng' 'orkney' 'atlantis'\n",
      " 'mafikeng' 'louis-trichardt' 'stanger' 'southbroom' 'walkerville'\n",
      " 'mokopane' 'groot-brakrivier' 'eikenhof' 'nsikazi' 'mtunzini'\n",
      " 'butterworth' 'swartruggens' 'hibberdene' 'volksrust' 'deneysville'\n",
      " 'blue-downs' 'camperdown' 'arniston' 'ermelo' 'st-helena-bay'\n",
      " 'prince-albert' 'grootvlei' 'steynsrus' 'struisbaai' 'bela-bela'\n",
      " 'christiana' 'philippolis' 'tongaat' 'barberton' 'mthatha' 'clarens'\n",
      " 'umzinto' 'umlazi' 'marquard' 'katlehong' 'hilton' 'waterval-boven'\n",
      " 'eshowe' 'piet-retief' 'worcester' 'napier' 'kathu' 'ga-rankuwa'\n",
      " 'hammanskraal' 'senekal' 'ottosdal' 'grabouw' 'seymour' 'philipstown'\n",
      " 'desainagar' 'trafalgar' 'la-mercy' 'vanrhynsdorp' 'queensburgh'\n",
      " 'allanridge' 'graaff-reinet' 'barkly-west' 'carletonville' 'vryheid'\n",
      " 'malmesbury' 'stanford' 'witsand' 'vredefort' 'sterkstroom' 'leandra'\n",
      " 'rayton' 'warrenton' 'thabazimbi' 'bethal' 'bonnievale' 'mabopane'\n",
      " 'greytown' 'vredenburg' 'siyabuswa' 'paterson' 'sedgefield' 'bot-river'\n",
      " 'kommetjie' 'hennenman' 'paternoster' 'scottburgh' 'lichtenburg'\n",
      " 'komatipoort' 'scarborough' 'hammarsdale' 'hartbeesfontein' 'esikhawini'\n",
      " 'wonderboom' 'machadodorp' 'gariepdam' 'bathurst' 'oranjeville'\n",
      " 'koffiefontein' 'boesmansriviermond' 'vleesbaai' 'kriel' 'wilderness'\n",
      " 'queenstown' 'st-lucia' 'bedford' 'riebeek-valley' 'malelane' 'barrydale'\n",
      " 'warden' 'calitzdorp' 'isipingo' 'umbumbulu' 'schweizer-reneke' 'temba'\n",
      " 'kenton-on-sea' 'touws-river' 'blythedale' 'aberdeen' 'ladybrand'\n",
      " 'ndwedwe' 'lady-grey' 'ficksburg' 'bulwer' nan 'umzumbe' 'hartswater'\n",
      " 'kwambonambi' 'agulhas' 'virginia' 'orania' 'dullstroom' 'hectorspruit'\n",
      " 'cape-st-francis' 'kleinsee' 'adams-mission' 'kokstad' 'stutterheim'\n",
      " 'phalaborwa' 'moorreesburg' 'mooi-river' 'swellendam' 'danielskuil'\n",
      " 'ventersdorp' 'graskop' 'marina-beach' 'elysium' 'ritchie' 'cullinan'\n",
      " 'winburg' 'reddersburg' 'jacobsbaai' 'vryburg' 'rietkuil' 'ladismith'\n",
      " 'pullens-hope' 'kuruman' 'hogsback' 'cedarville' 'hendrina' 'haga-haga'\n",
      " 'carolina' 'gouritsmond' 'dannhauser' 'giyani' 'koster' 'burgersfort'\n",
      " 'somerset-east' 'cintsa' 'amersfoort' 'ventersburg' 'port-nolloth'\n",
      " 'willowmore' 'northam' 'mooinooi' 'groblersdal' 'hertzogville'\n",
      " 'morgans-bay' 'de-aar' 'porterville' 'leeudoringstad' 'boknesstrand'\n",
      " 'gamtoos-mouth' 'harrismith' 'hazyview' 'kestell' 'reitz' 'albertinia'\n",
      " 'thornhill' 'keimoes' 'tarkastad' 'richmond' 'kaysers-beach'\n",
      " 'modjadjiskloof' 'clanwilliam' 'marble-hall' 'vierfontein'\n",
      " 'phuthaditjhaba' 'byrne' 'melmoth' 'viljoenskroon' 'blackheath'\n",
      " 'bothaville' 'utrecht' 'balfour' 'cradock' 'springbok' 'alexandria'\n",
      " 'aliwal-north' 'cathcart' 'villiersdorp' 'theunissen' 'hewu' 'vosburg'\n",
      " 'kenhardt' 'koingnaas' 'thaba-nchu' 'robertson' 'hopefield' 'garies'\n",
      " 'darnall' 'zeerust' 'postmasburg' 'vaalwater' 'trompsburg' 'macassar'\n",
      " 'riversdale' 'klein-brak-rivier' 'dundee' 'ceres' 'fouriesburg'\n",
      " 'smithfield' 'boshof' 'adelaide' 'matatiele' 'oyster-bay' 'glencoe'\n",
      " 'nottingham-road' 'kei-mouth' 'prieska' 'bloemhof' 'hoopstad' 'mankwe'\n",
      " 'zastron' 'loxton' 'groot-marico' 'calvinia' 'dealesville' 'clocolan'\n",
      " 'beaufort-west' 'douglas' 'lindley' 'groblershoop' 'musina' 'mogwase'\n",
      " 'bushbuckridge' 'colchester' 'edenville' 'pofadder' 'tonga' 'petrusburg'\n",
      " 'hobhouse' 'mandeni' 'stella' 'bhisho' 'colenso' 'mcgregor'\n",
      " 'strandfontein' 'lamberts-bay' 'louwsburg' 'kleinemonde' 'jan-kempdorp'\n",
      " 'baardskeerdersbos' 'venterstad' 'kwamhlanga' 'delareyville'\n",
      " 'barkly-east' 'kakamas' 'ganyesa' 'renovaal' 'port-st-johns'\n",
      " 'cathkin-park' 'ohrigstad' 'winterton' 'ashton' 'jacobsdal' 'tweeling'\n",
      " 'hermon' 'badplaas' 'colesberg' 'dewetsdorp' 'bethulie' 'whittlesea'\n",
      " 'kirkwood' 'coligny' 'excelsior' 'laingsburg' 'joubertina' 'olifantshoek'\n",
      " 'thohoyandou' 'graafwater' 'ulundi' 'hankey' 'bitterfontein' 'memel'\n",
      " 'eendrag' 'dordrecht' 'darling' 'fraserburg' 'tulbagh' 'cannon-rocks'\n",
      " 'piketberg' 'odendaalsrus' 'hotazel' 'cornubia' 'griekwastad' 'itsoseng'\n",
      " 'himeville']\n",
      "province ------- ['gauteng' 'kwazulu-natal' 'western-cape' 'eastern-cape' 'free-state'\n",
      " 'limpopo' 'mpumalanga' 'north-west' 'northern-cape' nan]\n",
      "suburbaine ------- ['weltevreden-park' 'sibaya-precinct' 'sandton-central' ...\n",
      " 'west-acres-ext-7' 'seaforth' 'grayleigh']\n"
     ]
    }
   ],
   "source": [
    "for col in particulars_colums:\n",
    "    print(col,'-------',df[col].unique())"
   ]
  },
  {
   "cell_type": "markdown",
   "metadata": {},
   "source": [
    "#### .Variables coûts"
   ]
  },
  {
   "cell_type": "code",
   "execution_count": 104,
   "metadata": {},
   "outputs": [],
   "source": [
    "cost_columns =['Levies','Price per m²','Rates and Taxes']"
   ]
  },
  {
   "cell_type": "markdown",
   "metadata": {},
   "source": [
    "#### .Variables securité"
   ]
  },
  {
   "cell_type": "code",
   "execution_count": 107,
   "metadata": {},
   "outputs": [],
   "source": [
    "safe_columns = ['Coverage' , 'Security', 'Wall']"
   ]
  },
  {
   "cell_type": "code",
   "execution_count": 111,
   "metadata": {},
   "outputs": [
    {
     "name": "stdout",
     "output_type": "stream",
     "text": [
      "Coverage : 100 %    127\n",
      "25 %     107\n",
      "26 %      59\n",
      "28 %      57\n",
      "24 %      45\n",
      "1 %       42\n",
      "22 %      39\n",
      "23 %      39\n",
      "20 %      38\n",
      "18 %      36\n",
      "16 %      36\n",
      "32 %      34\n",
      "27 %      33\n",
      "15 %      33\n",
      "36 %      32\n",
      "35 %      31\n",
      "29 %      30\n",
      "38 %      29\n",
      "19 %      29\n",
      "30 %      29\n",
      "21 %      28\n",
      "37 %      27\n",
      "50 %      26\n",
      "45 %      25\n",
      "31 %      25\n",
      "34 %      25\n",
      "43 %      25\n",
      "33 %      25\n",
      "        ... \n",
      "64 %       7\n",
      "81 %       7\n",
      "97 %       7\n",
      "72 %       6\n",
      "62 %       5\n",
      "79 %       5\n",
      "85 %       5\n",
      "86 %       5\n",
      "71 %       5\n",
      "77 %       5\n",
      "84 %       5\n",
      "92 %       5\n",
      "99 %       4\n",
      "78 %       4\n",
      "82 %       4\n",
      "83 %       3\n",
      "75 %       3\n",
      "88 %       3\n",
      "76 %       3\n",
      "95 %       3\n",
      "87 %       2\n",
      "94 %       2\n",
      "74 %       2\n",
      "90 %       2\n",
      "93 %       2\n",
      "91 %       1\n",
      "96 %       1\n",
      "98 %       1\n",
      "Name: Coverage, Length: 99, dtype: int64\n",
      "Security : 1                                                                                                                                                                                                                                                431\n",
      "Alarm System                                                                                                                                                                                                                                     308\n",
      "Security Gate                                                                                                                                                                                                                                    252\n",
      "24 Hour Access                                                                                                                                                                                                                                   238\n",
      "Electric fencing                                                                                                                                                                                                                                 237\n",
      "Security                                                                                                                                                                                                                                         228\n",
      "Burglar Bars                                                                                                                                                                                                                                     152\n",
      "Perimeter Wall                                                                                                                                                                                                                                   134\n",
      "Security Gate, Burglar Bars                                                                                                                                                                                                                      108\n",
      "Security Gate, Electric fencing                                                                                                                                                                                                                  105\n",
      "Security Gate, 24 Hour Access, Guard House, Electric fencing                                                                                                                                                                                     100\n",
      "Alarm System, Electric fencing                                                                                                                                                                                                                    92\n",
      "Security Complex                                                                                                                                                                                                                                  92\n",
      "Totally Fenced                                                                                                                                                                                                                                    91\n",
      "Electric Gate                                                                                                                                                                                                                                     91\n",
      "Totally Fenced, Security Gate, Burglar Bars                                                                                                                                                                                                       83\n",
      "Alarm System, Intercom, Electric fencing                                                                                                                                                                                                          78\n",
      "Intercom                                                                                                                                                                                                                                          71\n",
      "Security Gate, 24 Hour Access, Electric fencing                                                                                                                                                                                                   68\n",
      "Security Gate, 24 Hour Access                                                                                                                                                                                                                     66\n",
      "Security Gate, Alarm System, Burglar Bars                                                                                                                                                                                                         64\n",
      "24 Hour Access, Electric fencing                                                                                                                                                                                                                  63\n",
      "Security Gate, 24 Hour Access, Guard House                                                                                                                                                                                                        61\n",
      "Totally Fenced, Burglar Bars                                                                                                                                                                                                                      60\n",
      "Electric Gate, Perimeter Wall                                                                                                                                                                                                                     52\n",
      "Alarm System, 24 Hour Access                                                                                                                                                                                                                      51\n",
      "Intercom, Electric fencing                                                                                                                                                                                                                        51\n",
      "Complex security                                                                                                                                                                                                                                  46\n",
      "                                                                                                                                                                                                                                                ... \n",
      "Alarm System, Intercom, Guard House, Outdoor Beams                                                                                                                                                                                                 1\n",
      "Main home has burglar bars in place                                                                                                                                                                                                                1\n",
      "Complex security including alarm, automatic gates, electric fence, electronic beams, intercom and security gates                                                                                                                                   1\n",
      "Totally Fenced, Security Gate, Closed Circuit TV, 24 Hour Access, Guard, Boomed Area, Safe                                                                                                                                                         1\n",
      "Electric Gate, Intercom, Guard, Electric fencing                                                                                                                                                                                                   1\n",
      "Totally Fenced, Electric Garage, Electric Gate, Alarm System, 24 Hour Response, Intercom, Burglar Bars, Electric fencing, Safe                                                                                                                     1\n",
      "24 hour manned security including 24 hour response, burglar bars, guard house and smartphone-integrated security                                                                                                                                   1\n",
      "Very secure                                                                                                                                                                                                                                        1\n",
      "Diplomatic levels of Security                                                                                                                                                                                                                      1\n",
      "Partially Fenced, Electric Gate, Alarm System, Intercom, Burglar Bars                                                                                                                                                                              1\n",
      "24 hour manned complex security including alarm, automatic gates, burglar bars, electric fence, guard house, intercom and security gates                                                                                                           1\n",
      "Security including alarm and intercom                                                                                                                                                                                                              1\n",
      "Electric Gate, 24 Hour Response, Intercom, Closed Circuit TV, Electric fencing, Perimeter Wall                                                                                                                                                     1\n",
      "24HR Security                                                                                                                                                                                                                                      1\n",
      "24 hour security, burglar bars and security gates                                                                                                                                                                                                  1\n",
      "Totally Fenced, Electric Gate, Security Gate, Alarm System, 24 Hour Response, Intercom, Closed Circuit TV, Burglar Bars, 24 Hour Access, Guard House, Guard, Electric fencing, Perimeter Wall, Outdoor Beams, Boomed Area, Indoor Beams, Safe      1\n",
      "Electric Gate, Security Gate, Alarm System, Intercom, Burglar Bars, Safe                                                                                                                                                                           1\n",
      "24 hour manned security including automatic gates, burglar bars and security gates                                                                                                                                                                 1\n",
      "Totally Fenced, Electric Gate, Security Gate, 24 Hour Response, Burglar Bars, Guard, Electric fencing, Perimeter Wall, Boomed Area                                                                                                                 1\n",
      "24 Hour Response, Closed Circuit TV, 24 Hour Access                                                                                                                                                                                                1\n",
      "Gated Area                                                                                                                                                                                                                                         1\n",
      "Security including electronic beams                                                                                                                                                                                                                1\n",
      "Security Gate, Alarm System, Intercom, 24 Hour Access, Guard House, Guard, Electric fencing, Perimeter Wall, Boomed Area, Safe                                                                                                                     1\n",
      "Security including alarm, automatic gates, electric fence, electronic beams, guard house and intercom                                                                                                                                              1\n",
      "Security Gate, Guard House, Perimeter Wall, Safe                                                                                                                                                                                                   1\n",
      "Electric Garage, Electric Gate, Security Gate, 24 Hour Response, 24 Hour Access, Guard House, Guard, Electric fencing, Perimeter Wall, Outdoor Beams, Boomed Area, Safe                                                                            1\n",
      "Complex security including 24 hour response, alarm, automatic gates, burglar bars, electric fence, guard house and intercom                                                                                                                        1\n",
      "Closed Circuit TV, 24 Hour Access, Guard, Electric fencing                                                                                                                                                                                         1\n",
      "Name: Security, Length: 2697, dtype: int64\n",
      "Wall : Plaster                                                  1939\n",
      "Face-brick                                                637\n",
      "Brick                                                     320\n",
      "Brick, Plaster                                            283\n",
      "Plaster, Face-brick                                       180\n",
      "Concrete                                                   56\n",
      "Brick, Plaster, Face-brick                                 39\n",
      "Plaster, Concrete                                          35\n",
      "Brick, Plaster, Concrete                                   21\n",
      "Brick, Concrete                                            18\n",
      "Wood                                                       13\n",
      "Plaster, Stone                                             11\n",
      "Brick, Face-brick                                           9\n",
      "Plaster, Wood                                               6\n",
      "Stone                                                       6\n",
      "Iron                                                        5\n",
      "Plaster, Stone, Face-brick                                  4\n",
      "Brick, Plaster, Concrete, Face-brick                        3\n",
      "Stone, Face-brick                                           3\n",
      "Brick, Plaster, Stone                                       3\n",
      "Wood, Face-brick                                            2\n",
      "Concrete, Iron                                              2\n",
      "Plaster, Wood, Stone, Face-brick                            2\n",
      "Brick, Wood                                                 2\n",
      "Brick, Plaster, Wood, Iron, Stone, Glass                    2\n",
      "Brick, Asbestos                                             2\n",
      "Asbestos                                                    2\n",
      "Concrete, Face-brick                                        2\n",
      "Brick, Stone                                                1\n",
      "Plaster, Concrete, Iron                                     1\n",
      "Brick, Stone, Glass                                         1\n",
      "Plaster, Asbestos                                           1\n",
      "Plaster, Wood, Face-brick                                   1\n",
      "Concrete, Stone                                             1\n",
      "Brick, Plaster, Iron, Stone, Face-brick                     1\n",
      "Iron, Face-brick                                            1\n",
      "Plaster, Iron                                               1\n",
      "Plaster, Concrete, Wood, Iron                               1\n",
      "Brick, Plaster, Wood, Stone                                 1\n",
      "Brick, Glass                                                1\n",
      "Plaster, Concrete, Wood                                     1\n",
      "Plaster, Concrete, Face-brick                               1\n",
      "Brick, Wood, Face-brick                                     1\n",
      "Brick, Plaster, Concrete, Wood                              1\n",
      "Brick, Plaster, Stone, Face-brick                           1\n",
      "Brick, Plaster, Concrete, Wood, Asbestos, Iron, Stone       1\n",
      "Name: Wall, dtype: int64\n"
     ]
    }
   ],
   "source": [
    "for col in safe_columns:\n",
    "    print(col,':',df[col].value_counts())"
   ]
  },
  {
   "cell_type": "markdown",
   "metadata": {},
   "source": [
    "#### .Variable d'autonomie"
   ]
  },
  {
   "cell_type": "code",
   "execution_count": 112,
   "metadata": {},
   "outputs": [],
   "source": [
    "autonome_columns = ['Standalone Building', 'Outbuilding']"
   ]
  },
  {
   "cell_type": "code",
   "execution_count": 113,
   "metadata": {},
   "outputs": [
    {
     "name": "stdout",
     "output_type": "stream",
     "text": [
      "Standalone Building : Yes    1569\n",
      "No      663\n",
      "Name: Standalone Building, dtype: int64\n",
      "Outbuilding : Staff Quarters/Domestic Rooms                                                                                                                      236\n",
      "1                                                                                                                                                  185\n",
      "Flatlet                                                                                                                                            137\n",
      "Outbuilding                                                                                                                                        137\n",
      "Storeroom                                                                                                                                          130\n",
      "Outside Toilets                                                                                                                                     75\n",
      "Lapa                                                                                                                                                55\n",
      "Staff Quarters/Domestic Rooms, Domestic Bathroom                                                                                                    52\n",
      "Clubhouse                                                                                                                                           46\n",
      "Covered Patio                                                                                                                                       45\n",
      "Staff Quarters/Domestic Rooms, Outside Toilets                                                                                                      34\n",
      "Domestic Bathroom                                                                                                                                   31\n",
      "Staff Quarters/Domestic Rooms, Storeroom                                                                                                            30\n",
      "Granny flat                                                                                                                                         30\n",
      "Shed                                                                                                                                                27\n",
      "Cottage                                                                                                                                             23\n",
      "Storeroom, Outside Toilets                                                                                                                          19\n",
      "1.0                                                                                                                                                 17\n",
      "Flatlet, Staff Quarters/Domestic Rooms                                                                                                              13\n",
      "Staff accommodation                                                                                                                                 13\n",
      "Flatlet, Storeroom                                                                                                                                  10\n",
      "Stables                                                                                                                                             10\n",
      "Workshop                                                                                                                                            10\n",
      "Staff Quarters/Domestic Rooms, Storeroom, Domestic Bathroom                                                                                          9\n",
      "Laundry                                                                                                                                              8\n",
      "Flatlet, Staff Quarters/Domestic Rooms, Storeroom                                                                                                    7\n",
      "Staff Quarters/Domestic Rooms, Lapa                                                                                                                  7\n",
      "Storeroom, Covered Patio                                                                                                                             7\n",
      "                                                                                                                                                  ... \n",
      "2 outside rooms with toilet                                                                                                                          1\n",
      " Fully self-contained flat let downstairs with two bedrooms, open plan kitchen/lounge. Has aircon and ceilng fans. En-suite shower room Flatlet      1\n",
      "3 rooms                                                                                                                                              1\n",
      "Storeroom, Office, Outside Toilets                                                                                                                   1\n",
      "Toilet                                                                                                                                               1\n",
      "wendy                                                                                                                                                1\n",
      "2 separate bedrooms in staff quarters. 1 toilet with shower and hand basin.                                                                          1\n",
      "Braai room                                                                                                                                           1\n",
      "LARGE, MODERN 1 BEDROOM FLAT                                                                                                                         1\n",
      "At pool                                                                                                                                              1\n",
      "In Basement                                                                                                                                          1\n",
      "Staff Quarters/Domestic Rooms, Storeroom, Cellar, Teenpad                                                                                            1\n",
      "LOVELY, SPACIOUS FLAT                                                                                                                                1\n",
      "kitchen bathroom, bedroom                                                                                                                            1\n",
      "Domestic accommodation with en-suite (to be completed). Plumbed for kitchenette. Possible guest suite.                                               1\n",
      "own entrance,  single bedroom flat with bathroom and open plan living area,  kitchen.  Carport                                                       1\n",
      "Entertainment Area with Electricity                                                                                                                  1\n",
      "Guest suite                                                                                                                                          1\n",
      "Flat with 2 bedrooms                                                                                                                                 1\n",
      "Flatlet, Change Rooms, Second House, Cottage                                                                                                         1\n",
      "Second house on property: Kitchen, lounge, 2 bedrooms, bathroom, carport                                                                             1\n",
      "Undercover lapa with built in braai                                                                                                                  1\n",
      "Managers Flat                                                                                                                                        1\n",
      "Flatlet, Outside Toilets, Granny flat                                                                                                                1\n",
      "3  Rooms outside.                                                                                                                                    1\n",
      "Workshop, Lapa, Outside Toilets                                                                                                                      1\n",
      "Store room , outside  toilet                                                                                                                         1\n",
      "Laundry room                                                                                                                                         1\n",
      "Name: Outbuilding, Length: 532, dtype: int64\n"
     ]
    }
   ],
   "source": [
    "for col in automome_columns:\n",
    "    print(col,':',df[col].value_counts())"
   ]
  },
  {
   "cell_type": "code",
   "execution_count": 117,
   "metadata": {},
   "outputs": [
    {
     "data": {
      "text/plain": [
       "North                                             721\n",
       "Sea                                               346\n",
       "Level Road                                        181\n",
       "East                                              126\n",
       "Street Front                                      117\n",
       "Mountain View                                     113\n",
       "South                                              90\n",
       "Above Road                                         86\n",
       "West                                               67\n",
       "East, Sea                                          64\n",
       "North, South, Above Road                           44\n",
       "North, Level Road                                  39\n",
       "Sea, Mountain View                                 37\n",
       "Below Road                                         35\n",
       "Street Front, Level Road                           33\n",
       "North, Above Road                                  32\n",
       "North, Mountain View                               25\n",
       "North, East                                        23\n",
       "North, Street Front                                22\n",
       "Green Belt                                         20\n",
       "Sea, Above Road                                    17\n",
       "Water                                              17\n",
       "North, Street Front, Level Road                    16\n",
       "Sea, Level Road                                    14\n",
       "South, East                                        13\n",
       "North, Sea                                         13\n",
       "South, Sea                                         12\n",
       "North, West                                        10\n",
       "                                                 ... \n",
       "East, Above Road, Green Belt                        1\n",
       "North, South, Street Front, Level Road              1\n",
       "North, East, Street Front, Level Road               1\n",
       "South, East, Street Front, Level Road               1\n",
       "West, Green Belt                                    1\n",
       "North, South, East, West                            1\n",
       "Water, Street Front                                 1\n",
       "West, Sea, Mountain View                            1\n",
       "West, Level Road, Mountain View                     1\n",
       "East, Sea, Water, Below Road                        1\n",
       "Water, Green Belt                                   1\n",
       "East, West, Mountain View                           1\n",
       "North, Street Front, Below Road, Green Belt         1\n",
       "North, East, Street Front                           1\n",
       "North, Street Front, Below Road                     1\n",
       "Water, Below Road, Mountain View                    1\n",
       "North, Water, Street Front, Level Road              1\n",
       "North, East, Sea, Mountain View                     1\n",
       "Sea, Water, Mountain View, Green Belt               1\n",
       "North, Street Front, Level Road, Above Road         1\n",
       "West, Sea, Water, Mountain View                     1\n",
       "West, Sea, Above Road                               1\n",
       "West, Mountain View, Green Belt                     1\n",
       "East, Below Road, Green Belt                        1\n",
       "East, Level Road, Mountain View                     1\n",
       "Above Road, Green Belt                              1\n",
       "North, Street Front, Above Road, Mountain View      1\n",
       "North, Sea, Mountain View, Green Belt               1\n",
       "Name: Facing, Length: 170, dtype: int64"
      ]
     },
     "execution_count": 117,
     "metadata": {},
     "output_type": "execute_result"
    }
   ],
   "source": [
    "df['Facing'].value_counts()"
   ]
  },
  {
   "cell_type": "code",
   "execution_count": null,
   "metadata": {},
   "outputs": [],
   "source": []
  }
 ],
 "metadata": {
  "kernelspec": {
   "display_name": "Python 3",
   "language": "python",
   "name": "python3"
  },
  "language_info": {
   "codemirror_mode": {
    "name": "ipython",
    "version": 3
   },
   "file_extension": ".py",
   "mimetype": "text/x-python",
   "name": "python",
   "nbconvert_exporter": "python",
   "pygments_lexer": "ipython3",
   "version": "3.5.2"
  }
 },
 "nbformat": 4,
 "nbformat_minor": 2
}
