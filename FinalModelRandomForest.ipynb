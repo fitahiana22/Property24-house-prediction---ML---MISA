{
 "cells": [
  {
   "cell_type": "code",
   "execution_count": 1,
   "metadata": {},
   "outputs": [],
   "source": [
    "import numpy as np\n",
    "import pandas as pd\n",
    "import matplotlib.pyplot as plt"
   ]
  },
  {
   "cell_type": "code",
   "execution_count": 2,
   "metadata": {},
   "outputs": [],
   "source": [
    "data = pd.read_csv('cleaned_data.csv')"
   ]
  },
  {
   "cell_type": "code",
   "execution_count": 3,
   "metadata": {},
   "outputs": [],
   "source": [
    "df = data.copy()"
   ]
  },
  {
   "cell_type": "markdown",
   "metadata": {},
   "source": [
    "# PREPROCESSING"
   ]
  },
  {
   "cell_type": "code",
   "execution_count": 4,
   "metadata": {},
   "outputs": [],
   "source": [
    "# transform True to 1 and False to 0\n",
    "boolean_features = [\"No Transfer Duty\", \"Office\",\"Pets Allowed\", \"Standalone Building\"]\n",
    "def process_boolean_features(value):\n",
    "    if value==True:\n",
    "        return 1\n",
    "    else:\n",
    "        return 0"
   ]
  },
  {
   "cell_type": "code",
   "execution_count": 5,
   "metadata": {},
   "outputs": [],
   "source": [
    "for col in boolean_features:\n",
    "    df[col] = df[col].map(process_boolean_features)"
   ]
  },
  {
   "cell_type": "code",
   "execution_count": 6,
   "metadata": {},
   "outputs": [],
   "source": [
    "#taux de valeur manquante\n",
    "missing_rate = df.isna().sum()/df.shape[0]"
   ]
  },
  {
   "cell_type": "code",
   "execution_count": 7,
   "metadata": {},
   "outputs": [],
   "source": [
    "#On elimine les variables à valeur manquante à 90%\n",
    "df = df[df.columns[missing_rate < 0.90]]"
   ]
  },
  {
   "cell_type": "code",
   "execution_count": 8,
   "metadata": {},
   "outputs": [],
   "source": [
    "# Drop Price from X\n",
    "df = df[~df[\"Price\"].isna()]"
   ]
  },
  {
   "cell_type": "markdown",
   "metadata": {},
   "source": [
    "# TrainTest - Nettoyage - Encodage"
   ]
  },
  {
   "cell_type": "code",
   "execution_count": 9,
   "metadata": {},
   "outputs": [],
   "source": [
    "from sklearn.model_selection import train_test_split\n",
    "from sklearn.compose import make_column_transformer\n",
    "from sklearn.pipeline import make_pipeline"
   ]
  },
  {
   "cell_type": "code",
   "execution_count": 10,
   "metadata": {},
   "outputs": [],
   "source": [
    "trainset, testset = train_test_split(df, test_size=0.2, random_state=0)"
   ]
  },
  {
   "cell_type": "code",
   "execution_count": 11,
   "metadata": {},
   "outputs": [],
   "source": [
    "from sklearn.preprocessing import StandardScaler, OneHotEncoder, RobustScaler\n",
    "from sklearn.impute import SimpleImputer\n",
    "from sklearn.compose import make_column_selector"
   ]
  },
  {
   "cell_type": "code",
   "execution_count": 12,
   "metadata": {},
   "outputs": [],
   "source": [
    "def encodage():\n",
    "\n",
    "    categorical_features = [\n",
    "                            'Wall','Security','Roof','City','Province','Suburbaine',\n",
    "                            'Type of Property'\n",
    "                        ]\n",
    "    \n",
    "    integer_features = [\n",
    "        \"Bathrooms\", \"Bedrooms\", \"Garage\", \"Parking\", \n",
    "          \"Reception Rooms\", \"Special Features\", \n",
    "        \"Temperature Control\", \"Dining Rooms\", \"Garden\", \"Kitchens\", \"Lounges\", \n",
    "        \"No Transfer Duty\", \"Office\",\"Pets Allowed\", \"Standalone Building\"\n",
    "    ]\n",
    "    \n",
    "    # integer_features = make_column_selector(dtype_include=np.number)\n",
    "    \n",
    "    # print(len(categorical_features))\n",
    "    # print(len(integer_features))\n",
    "    \n",
    "    size_features = ['Erf Size', 'Floor Size', 'Price per m²', 'Rates and Taxes', 'Levies']\n",
    "    \n",
    "    categorical_pipeline = make_pipeline(SimpleImputer(strategy='most_frequent'),OneHotEncoder(handle_unknown = \"ignore\"))\n",
    "    \n",
    "    \n",
    "    size_pipeline = make_pipeline(SimpleImputer(),StandardScaler())\n",
    "    \n",
    "    preprocessor = make_column_transformer((categorical_pipeline,categorical_features),\n",
    "                                          (SimpleImputer(strategy='constant'),integer_features),\n",
    "                                          (size_pipeline,size_features))\n",
    "    return preprocessor"
   ]
  },
  {
   "cell_type": "code",
   "execution_count": 13,
   "metadata": {},
   "outputs": [],
   "source": [
    "def preprocessing(df):\n",
    "    X = df.drop('Price',axis=1)\n",
    "    y = df['Price']\n",
    "    \n",
    "    return X, y"
   ]
  },
  {
   "cell_type": "code",
   "execution_count": 14,
   "metadata": {},
   "outputs": [],
   "source": [
    "X_train, y_train = preprocessing(trainset)"
   ]
  },
  {
   "cell_type": "code",
   "execution_count": 15,
   "metadata": {},
   "outputs": [],
   "source": [
    "X_test, y_test = preprocessing(testset)"
   ]
  },
  {
   "cell_type": "markdown",
   "metadata": {},
   "source": [
    "# Modelisation"
   ]
  },
  {
   "cell_type": "code",
   "execution_count": 16,
   "metadata": {},
   "outputs": [],
   "source": [
    "from sklearn.ensemble import RandomForestRegressor"
   ]
  },
  {
   "cell_type": "code",
   "execution_count": 17,
   "metadata": {},
   "outputs": [],
   "source": [
    "preprocessor = encodage()"
   ]
  },
  {
   "cell_type": "code",
   "execution_count": 18,
   "metadata": {},
   "outputs": [],
   "source": [
    "RandomForestReg = make_pipeline(preprocessor, RandomForestRegressor(n_estimators=100, random_state=0))"
   ]
  },
  {
   "cell_type": "code",
   "execution_count": 19,
   "metadata": {},
   "outputs": [
    {
     "data": {
      "text/plain": [
       "Pipeline(steps=[('columntransformer',\n",
       "                 ColumnTransformer(transformers=[('pipeline-1',\n",
       "                                                  Pipeline(steps=[('simpleimputer',\n",
       "                                                                   SimpleImputer(strategy='most_frequent')),\n",
       "                                                                  ('onehotencoder',\n",
       "                                                                   OneHotEncoder(handle_unknown='ignore'))]),\n",
       "                                                  ['Wall', 'Security', 'Roof',\n",
       "                                                   'City', 'Province',\n",
       "                                                   'Suburbaine',\n",
       "                                                   'Type of Property']),\n",
       "                                                 ('simpleimputer',\n",
       "                                                  SimpleImputer(strategy='constant'),\n",
       "                                                  ['Bath...\n",
       "                                                   'Temperature Control',\n",
       "                                                   'Dining Rooms', 'Garden',\n",
       "                                                   'Kitchens', 'Lounges',\n",
       "                                                   'No Transfer Duty', 'Office',\n",
       "                                                   'Pets Allowed',\n",
       "                                                   'Standalone Building']),\n",
       "                                                 ('pipeline-2',\n",
       "                                                  Pipeline(steps=[('simpleimputer',\n",
       "                                                                   SimpleImputer()),\n",
       "                                                                  ('standardscaler',\n",
       "                                                                   StandardScaler())]),\n",
       "                                                  ['Erf Size', 'Floor Size',\n",
       "                                                   'Price per m²',\n",
       "                                                   'Rates and Taxes',\n",
       "                                                   'Levies'])])),\n",
       "                ('randomforestregressor',\n",
       "                 RandomForestRegressor(random_state=0))])"
      ]
     },
     "execution_count": 19,
     "metadata": {},
     "output_type": "execute_result"
    }
   ],
   "source": [
    "RandomForestReg.fit(X_train, y_train)"
   ]
  },
  {
   "cell_type": "code",
   "execution_count": null,
   "metadata": {},
   "outputs": [],
   "source": [
    "RandomForestReg.base_estimator_"
   ]
  },
  {
   "cell_type": "code",
   "execution_count": 57,
   "metadata": {},
   "outputs": [],
   "source": [
    "import pickle\n",
    "import json"
   ]
  },
  {
   "cell_type": "code",
   "execution_count": 21,
   "metadata": {},
   "outputs": [],
   "source": [
    "pickl = {\n",
    "    'regressor': RandomForestReg\n",
    "}\n",
    "pickle.dump( pickl, open( 'modelsPickle' + \".p\", \"wb\" ) )"
   ]
  },
  {
   "cell_type": "code",
   "execution_count": 75,
   "metadata": {},
   "outputs": [
    {
     "data": {
      "text/html": [
       "<div>\n",
       "<style scoped>\n",
       "    .dataframe tbody tr th:only-of-type {\n",
       "        vertical-align: middle;\n",
       "    }\n",
       "\n",
       "    .dataframe tbody tr th {\n",
       "        vertical-align: top;\n",
       "    }\n",
       "\n",
       "    .dataframe thead th {\n",
       "        text-align: right;\n",
       "    }\n",
       "</style>\n",
       "<table border=\"1\" class=\"dataframe\">\n",
       "  <thead>\n",
       "    <tr style=\"text-align: right;\">\n",
       "      <th></th>\n",
       "      <th>Bathrooms</th>\n",
       "      <th>Bedrooms</th>\n",
       "      <th>Erf Size</th>\n",
       "      <th>Floor Size</th>\n",
       "      <th>Garage</th>\n",
       "      <th>Levies</th>\n",
       "      <th>No Transfer Duty</th>\n",
       "      <th>Office</th>\n",
       "      <th>Parking</th>\n",
       "      <th>Pets Allowed</th>\n",
       "      <th>...</th>\n",
       "      <th>Temperature Control</th>\n",
       "      <th>Type of Property</th>\n",
       "      <th>Wall</th>\n",
       "      <th>City</th>\n",
       "      <th>Province</th>\n",
       "      <th>Suburbaine</th>\n",
       "      <th>Dining Rooms</th>\n",
       "      <th>Garden</th>\n",
       "      <th>Kitchens</th>\n",
       "      <th>Lounges</th>\n",
       "    </tr>\n",
       "  </thead>\n",
       "  <tbody>\n",
       "    <tr>\n",
       "      <th>16223</th>\n",
       "      <td>1.0</td>\n",
       "      <td>2.0</td>\n",
       "      <td>NaN</td>\n",
       "      <td>62.0</td>\n",
       "      <td>NaN</td>\n",
       "      <td>1050.0</td>\n",
       "      <td>0</td>\n",
       "      <td>0</td>\n",
       "      <td>2.0</td>\n",
       "      <td>1</td>\n",
       "      <td>...</td>\n",
       "      <td>0</td>\n",
       "      <td>Apartment / Flat</td>\n",
       "      <td>NaN</td>\n",
       "      <td>sandton</td>\n",
       "      <td>gauteng</td>\n",
       "      <td>broadacres</td>\n",
       "      <td>NaN</td>\n",
       "      <td>NaN</td>\n",
       "      <td>1.0</td>\n",
       "      <td>1.0</td>\n",
       "    </tr>\n",
       "  </tbody>\n",
       "</table>\n",
       "<p>1 rows × 27 columns</p>\n",
       "</div>"
      ],
      "text/plain": [
       "       Bathrooms  Bedrooms  Erf Size  Floor Size  Garage  Levies  \\\n",
       "16223        1.0       2.0       NaN        62.0     NaN  1050.0   \n",
       "\n",
       "       No Transfer Duty  Office  Parking  Pets Allowed  ...  \\\n",
       "16223                 0       0      2.0             1  ...   \n",
       "\n",
       "       Temperature Control  Type of Property  Wall     City Province  \\\n",
       "16223                    0  Apartment / Flat   NaN  sandton  gauteng   \n",
       "\n",
       "       Suburbaine  Dining Rooms  Garden Kitchens Lounges  \n",
       "16223  broadacres           NaN     NaN      1.0     1.0  \n",
       "\n",
       "[1 rows x 27 columns]"
      ]
     },
     "execution_count": 75,
     "metadata": {},
     "output_type": "execute_result"
    }
   ],
   "source": [
    "X_test.iloc[0:1,:]"
   ]
  },
  {
   "cell_type": "code",
   "execution_count": 76,
   "metadata": {},
   "outputs": [
    {
     "data": {
      "text/plain": [
       "array([922885.5])"
      ]
     },
     "execution_count": 76,
     "metadata": {},
     "output_type": "execute_result"
    }
   ],
   "source": [
    "RandomForestReg.predict(X_test.iloc[0:1,:])"
   ]
  },
  {
   "cell_type": "code",
   "execution_count": 55,
   "metadata": {},
   "outputs": [],
   "source": [
    "# RandomForestReg.predict(X_test.iloc[2,:].to_numpy().reshape(1,-1)\n",
    "a = \"{\\\"Bathrooms\\\":4,\\\"Bedrooms\\\":5,\\\"Erf Size\\\":992,\\\"Floor Size\\\":null,\\\"Garage\\\":2,\\\"Levies\\\":1050,\\\"No Transfer Duty\\\":0,\\\"Office\\\":1,\\\"Parking\\\":0,\\\"Pets Allowed\\\":1,\\\"Price per m²\\\":null,\\\"Rates and Taxes\\\":2300,\\\"Reception Rooms\\\":null,\\\"Roof\\\":null,\\\"Security\\\":null,\\\"Special Features\\\":0,\\\"Standalone Building\\\":0,\\\"Temperature Control\\\":0,\\\"Type of Property\\\":\\\"House\\\",\\\"Wall\\\":null,\\\"City\\\":\\\"edenvale\\\",\\\"Province\\\":\\\"gauteng\\\",\\\"Suburbaine\\\":\\\"dowerglen-ext-5\\\",\\\"Dining Rooms\\\":1,\\\"Garden\\\":1,\\\"Kitchens\\\":1,\\\"Lounges\\\":1}\""
   ]
  },
  {
   "cell_type": "code",
   "execution_count": 61,
   "metadata": {},
   "outputs": [],
   "source": [
    "a = json.loads(a)"
   ]
  },
  {
   "cell_type": "code",
   "execution_count": 77,
   "metadata": {},
   "outputs": [
    {
     "data": {
      "text/html": [
       "<div>\n",
       "<style scoped>\n",
       "    .dataframe tbody tr th:only-of-type {\n",
       "        vertical-align: middle;\n",
       "    }\n",
       "\n",
       "    .dataframe tbody tr th {\n",
       "        vertical-align: top;\n",
       "    }\n",
       "\n",
       "    .dataframe thead th {\n",
       "        text-align: right;\n",
       "    }\n",
       "</style>\n",
       "<table border=\"1\" class=\"dataframe\">\n",
       "  <thead>\n",
       "    <tr style=\"text-align: right;\">\n",
       "      <th></th>\n",
       "      <th>Bathrooms</th>\n",
       "      <th>Bedrooms</th>\n",
       "      <th>Erf Size</th>\n",
       "      <th>Floor Size</th>\n",
       "      <th>Garage</th>\n",
       "      <th>Levies</th>\n",
       "      <th>No Transfer Duty</th>\n",
       "      <th>Office</th>\n",
       "      <th>Parking</th>\n",
       "      <th>Pets Allowed</th>\n",
       "      <th>...</th>\n",
       "      <th>Temperature Control</th>\n",
       "      <th>Type of Property</th>\n",
       "      <th>Wall</th>\n",
       "      <th>City</th>\n",
       "      <th>Province</th>\n",
       "      <th>Suburbaine</th>\n",
       "      <th>Dining Rooms</th>\n",
       "      <th>Garden</th>\n",
       "      <th>Kitchens</th>\n",
       "      <th>Lounges</th>\n",
       "    </tr>\n",
       "  </thead>\n",
       "  <tbody>\n",
       "    <tr>\n",
       "      <th>0</th>\n",
       "      <td>4</td>\n",
       "      <td>5</td>\n",
       "      <td>992</td>\n",
       "      <td>NaN</td>\n",
       "      <td>2</td>\n",
       "      <td>1050</td>\n",
       "      <td>0</td>\n",
       "      <td>1</td>\n",
       "      <td>0</td>\n",
       "      <td>1</td>\n",
       "      <td>...</td>\n",
       "      <td>0</td>\n",
       "      <td>House</td>\n",
       "      <td>NaN</td>\n",
       "      <td>edenvale</td>\n",
       "      <td>gauteng</td>\n",
       "      <td>dowerglen-ext-5</td>\n",
       "      <td>1</td>\n",
       "      <td>1</td>\n",
       "      <td>1</td>\n",
       "      <td>1</td>\n",
       "    </tr>\n",
       "  </tbody>\n",
       "</table>\n",
       "<p>1 rows × 27 columns</p>\n",
       "</div>"
      ],
      "text/plain": [
       "   Bathrooms  Bedrooms  Erf Size  Floor Size  Garage  Levies  \\\n",
       "0          4         5       992         NaN       2    1050   \n",
       "\n",
       "   No Transfer Duty  Office  Parking  Pets Allowed  ...  Temperature Control  \\\n",
       "0                 0       1        0             1  ...                    0   \n",
       "\n",
       "   Type of Property  Wall      City  Province       Suburbaine  Dining Rooms  \\\n",
       "0             House   NaN  edenvale   gauteng  dowerglen-ext-5             1   \n",
       "\n",
       "   Garden Kitchens  Lounges  \n",
       "0       1        1        1  \n",
       "\n",
       "[1 rows x 27 columns]"
      ]
     },
     "execution_count": 77,
     "metadata": {},
     "output_type": "execute_result"
    }
   ],
   "source": [
    "obj = pd.DataFrame()\n",
    "for key in a:\n",
    "    if a[key]==None:\n",
    "        obj[key] = [np.nan]\n",
    "    else:\n",
    "        obj[key] = [a[key]]\n",
    "\n",
    "obj"
   ]
  },
  {
   "cell_type": "code",
   "execution_count": null,
   "metadata": {},
   "outputs": [],
   "source": []
  },
  {
   "cell_type": "code",
   "execution_count": 78,
   "metadata": {},
   "outputs": [
    {
     "data": {
      "text/plain": [
       "array([3506360.])"
      ]
     },
     "execution_count": 78,
     "metadata": {},
     "output_type": "execute_result"
    }
   ],
   "source": [
    "RandomForestReg.predict(obj)"
   ]
  },
  {
   "cell_type": "code",
   "execution_count": null,
   "metadata": {},
   "outputs": [],
   "source": [
    "RandomForestReg.predict(X)"
   ]
  },
  {
   "cell_type": "code",
   "execution_count": null,
   "metadata": {},
   "outputs": [],
   "source": []
  },
  {
   "cell_type": "code",
   "execution_count": null,
   "metadata": {},
   "outputs": [],
   "source": []
  }
 ],
 "metadata": {
  "kernelspec": {
   "display_name": "Python 3",
   "language": "python",
   "name": "python3"
  },
  "language_info": {
   "codemirror_mode": {
    "name": "ipython",
    "version": 3
   },
   "file_extension": ".py",
   "mimetype": "text/x-python",
   "name": "python",
   "nbconvert_exporter": "python",
   "pygments_lexer": "ipython3",
   "version": "3.7.10"
  }
 },
 "nbformat": 4,
 "nbformat_minor": 5
}
